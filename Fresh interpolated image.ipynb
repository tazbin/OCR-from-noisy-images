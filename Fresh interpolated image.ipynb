{
 "cells": [
  {
   "cell_type": "code",
   "execution_count": null,
   "metadata": {
    "execution": {
     "iopub.execute_input": "2022-09-27T07:58:28.683691Z",
     "iopub.status.busy": "2022-09-27T07:58:28.683279Z",
     "iopub.status.idle": "2022-09-27T07:58:35.102027Z",
     "shell.execute_reply": "2022-09-27T07:58:35.101006Z",
     "shell.execute_reply.started": "2022-09-27T07:58:28.683607Z"
    }
   },
   "outputs": [],
   "source": [
    "# Importing necessary libraries\n",
    "import numpy as np\n",
    "import os\n",
    "import glob\n",
    "import cv2\n",
    "import matplotlib.pyplot as plt\n",
    "import pandas as pd\n",
    "import pickle\n",
    "from tensorflow.keras.utils import to_categorical\n",
    "from keras.layers import Dense, Input, Conv2D, Flatten, MaxPooling2D, Activation,Dropout,BatchNormalization\n",
    "from tensorflow.keras.optimizers import Adamax\n",
    "from keras.layers.advanced_activations import LeakyReLU\n",
    "from keras.models import Model\n",
    "from keras.callbacks import ModelCheckpoint\n",
    "from keras import backend as K\n",
    "import keras\n",
    "from keras.models import Sequential\n",
    "from keras.layers import Dense, Activation\n",
    "from tensorflow.keras.utils import to_categorical\n",
    "import tensorflow.keras.backend as K\n",
    "import tensorflow as tf\n",
    "%matplotlib inline\n",
    "import numpy as np\n",
    "import cv2\n",
    "from skimage.util import random_noise"
   ]
  },
  {
   "cell_type": "markdown",
   "metadata": {},
   "source": [
    "# Step 1: Process the data"
   ]
  },
  {
   "cell_type": "code",
   "execution_count": null,
   "metadata": {
    "execution": {
     "iopub.execute_input": "2022-09-27T07:58:38.603033Z",
     "iopub.status.busy": "2022-09-27T07:58:38.602419Z",
     "iopub.status.idle": "2022-09-27T07:58:38.608598Z",
     "shell.execute_reply": "2022-09-27T07:58:38.606591Z",
     "shell.execute_reply.started": "2022-09-27T07:58:38.602999Z"
    }
   },
   "outputs": [],
   "source": [
    "#Declaring constants\n",
    "FIG_WIDTH=20 # Width of figure\n",
    "HEIGHT_PER_ROW=3 # Height of each row when showing a figure which consists of multiple rows\n",
    "RESIZE_DIM=32 # The images will be resized to 28x28 pixels"
   ]
  },
  {
   "cell_type": "code",
   "execution_count": null,
   "metadata": {
    "execution": {
     "iopub.execute_input": "2022-09-27T07:58:41.389362Z",
     "iopub.status.busy": "2022-09-27T07:58:41.388996Z",
     "iopub.status.idle": "2022-09-27T07:58:47.954093Z",
     "shell.execute_reply": "2022-09-27T07:58:47.953081Z",
     "shell.execute_reply.started": "2022-09-27T07:58:41.389333Z"
    }
   },
   "outputs": [],
   "source": [
    "data_dir=os.path.join('..','input/numta')\n",
    "paths_train_a=glob.glob(os.path.join(data_dir,'training-a','*.png'))\n",
    "paths_train_b=glob.glob(os.path.join(data_dir,'training-b','*.png'))\n",
    "paths_train_e=glob.glob(os.path.join(data_dir,'training-e','*.png'))\n",
    "paths_train_c=glob.glob(os.path.join(data_dir,'training-c','*.png'))\n",
    "paths_train_d=glob.glob(os.path.join(data_dir,'training-d','*.png'))\n",
    "paths_train_all=paths_train_a+paths_train_b+paths_train_c+paths_train_d+paths_train_e\n",
    "\n",
    "paths_test_a=glob.glob(os.path.join(data_dir,'testing-a','*.png'))\n",
    "paths_test_b=glob.glob(os.path.join(data_dir,'testing-b','*.png'))\n",
    "paths_test_e=glob.glob(os.path.join(data_dir,'testing-e','*.png'))\n",
    "paths_test_c=glob.glob(os.path.join(data_dir,'testing-c','*.png'))\n",
    "paths_test_d=glob.glob(os.path.join(data_dir,'testing-d','*.png'))\n",
    "paths_test_f=glob.glob(os.path.join(data_dir,'testing-f','*.png'))+glob.glob(os.path.join(data_dir,'testing-f','*.JPG'))\n",
    "paths_test_auga=glob.glob(os.path.join(data_dir,'testing-auga','*.png'))\n",
    "paths_test_augc=glob.glob(os.path.join(data_dir,'testing-augc','*.png'))\n",
    "paths_test_all=paths_test_a+paths_test_b+paths_test_c+paths_test_d+paths_test_e+paths_test_f+paths_test_auga+paths_test_augc\n",
    "\n",
    "path_label_train_a=os.path.join(data_dir,'training-a.csv')\n",
    "path_label_train_b=os.path.join(data_dir,'training-b.csv')\n",
    "path_label_train_e=os.path.join(data_dir,'training-e.csv')\n",
    "path_label_train_c=os.path.join(data_dir,'training-c.csv')\n",
    "path_label_train_d=os.path.join(data_dir,'training-d.csv')"
   ]
  },
  {
   "cell_type": "markdown",
   "metadata": {},
   "source": [
    "## Image processing\n",
    "We shall write some helper functions to process and visualize the images. We will convert color to gray scale image. For better understanding we will unblur the image and make image sharp by using laplacian filter."
   ]
  },
  {
   "cell_type": "code",
   "execution_count": null,
   "metadata": {
    "execution": {
     "iopub.execute_input": "2022-09-27T07:58:52.675641Z",
     "iopub.status.busy": "2022-09-27T07:58:52.675291Z",
     "iopub.status.idle": "2022-09-27T07:58:52.698407Z",
     "shell.execute_reply": "2022-09-27T07:58:52.697339Z",
     "shell.execute_reply.started": "2022-09-27T07:58:52.675611Z"
    }
   },
   "outputs": [],
   "source": [
    "def get_key(path):\n",
    "    # seperates the key of an image from the filepath\n",
    "    key=path.split(sep=os.sep)[-1]\n",
    "    return key\n",
    "\n",
    "def get_data(paths_img,path_label=None,resize_dim=None):\n",
    "    '''reads images from the filepaths, resizes them (if given), and returns them in a numpy array\n",
    "    Args:\n",
    "        paths_img: image filepaths\n",
    "        path_label: pass image label filepaths while processing training data, defaults to None while processing testing data\n",
    "        resize_dim: if given, the image is resized to resize_dim x resize_dim (optional)\n",
    "    Returns:\n",
    "        X: group of images\n",
    "        y: categorical true labels\n",
    "    '''\n",
    "    X=[] # initialize empty list for resized images\n",
    "    for i,path in enumerate(paths_img):\n",
    "        img=cv2.imread(path,cv2.IMREAD_GRAYSCALE) # images loaded in color (BGR)\n",
    "        #img = cv2.bilateralFilter(img,9,75,75)\n",
    "        #img = cv2.medianBlur(img,5)\n",
    "        #img = cv2.fastNlMeansDenoisingColored(img,None,10,10,7,21)\n",
    "        #img=cv2.cvtColor(img,cv2.COLOR_BGR2GRAY) # cnahging colorspace to GRAY\n",
    "        if resize_dim is not None:\n",
    "            img=cv2.resize(img,(resize_dim,resize_dim),interpolation=cv2.INTER_AREA) # resize image to 28x28\n",
    "        #X.append(np.expand_dims(img,axis=2)) # expand image to 28x28x1 and append to the list.\n",
    "        gaussian_3 = cv2.GaussianBlur(img, (9,9), 10.0) #unblur\n",
    "        img = cv2.addWeighted(img, 1.5, gaussian_3, -0.5, 0, img)\n",
    "        kernel = np.array([[-1,-1,-1], [-1,9,-1], [-1,-1,-1]]) #filter\n",
    "        img = cv2.filter2D(img, -1, kernel)\n",
    "        #thresh = 200\n",
    "        #maxValue = 255\n",
    "        #th, img = cv2.threshold(img, thresh, maxValue, cv2.THRESH_BINARY);\n",
    "        ret,img = cv2.threshold(img, 128, 255, cv2.THRESH_BINARY_INV+cv2.THRESH_OTSU)\n",
    "        X.append(img) # expand image to 28x28x1 and append to the list\n",
    "        # display progress\n",
    "        if i==len(paths_img)-1:\n",
    "            end='\\n'\n",
    "        else: end='\\r'\n",
    "        print('processed {}/{}'.format(i+1,len(paths_img)),end=end)\n",
    "        \n",
    "    X=np.array(X) # tranform list to numpy array\n",
    "    if  path_label is None:\n",
    "        return X\n",
    "    else:\n",
    "        df = pd.read_csv(path_label) # read labels\n",
    "        df=df.set_index('filename') \n",
    "        y_label=[df.loc[get_key(path)]['digit'] for path in  paths_img] # get the labels corresponding to the images\n",
    "        y=to_categorical(y_label,10) # transfrom integer value to categorical variable\n",
    "        return X, y\n",
    "        \n",
    "def imshow_group(X,y,y_pred=None,n_per_row=10,phase='processed'):\n",
    "    '''helper function to visualize a group of images along with their categorical true labels (y) and prediction probabilities.\n",
    "    Args:\n",
    "        X: images\n",
    "        y: categorical true labels\n",
    "        y_pred: predicted class probabilities\n",
    "        n_per_row: number of images per row to be plotted\n",
    "        phase: If the images are plotted after resizing, pass 'processed' to phase argument. \n",
    "            It will plot the image and its true label. If the image is plotted after prediction \n",
    "            phase, pass predicted class probabilities to y_pred and 'prediction' to the phase argument. \n",
    "            It will plot the image, the true label, and it's top 3 predictions with highest probabilities.\n",
    "    '''\n",
    "    n_sample=len(X)\n",
    "    img_dim=X.shape[1]\n",
    "    j=int(np.ceil(n_sample/n_per_row))\n",
    "    fig=plt.figure(figsize=(FIG_WIDTH,HEIGHT_PER_ROW*j))\n",
    "    for i,img in enumerate(X):\n",
    "        plt.subplot(j,n_per_row,i+1)\n",
    "#         img_sq=np.squeeze(img,axis=2)\n",
    "#         plt.imshow(img_sq,cmap='gray')\n",
    "        plt.imshow(img)\n",
    "        if phase=='processed':\n",
    "            plt.title(np.argmax(y[i]))\n",
    "        if phase=='prediction':\n",
    "            top_n=3 # top 3 predictions with highest probabilities\n",
    "            ind_sorted=np.argsort(y_pred[i])[::-1]\n",
    "            h=img_dim+4\n",
    "            for k in range(top_n):\n",
    "                string='pred: {} ({:.0f}%)\\n'.format(ind_sorted[k],y_pred[i,ind_sorted[k]]*100)\n",
    "                plt.text(img_dim/2, h, string, horizontalalignment='center',verticalalignment='center')\n",
    "                h+=4\n",
    "            if y is not None:\n",
    "                plt.text(img_dim/2, -4, 'true label: {}'.format(np.argmax(y[i])), \n",
    "                         horizontalalignment='center',verticalalignment='center')\n",
    "        plt.axis('off')\n",
    "    plt.show()\n",
    "\n",
    "def create_submission(predictions,keys,path):\n",
    "    result = pd.DataFrame(\n",
    "        predictions,\n",
    "        columns=['label'],\n",
    "        index=keys\n",
    "        )\n",
    "    result.index.name='key'\n",
    "    result.to_csv(path, index=True)"
   ]
  },
  {
   "cell_type": "markdown",
   "metadata": {},
   "source": [
    "Next we are going to use the `get_data()` function to process all the images from dataset"
   ]
  },
  {
   "cell_type": "code",
   "execution_count": null,
   "metadata": {
    "execution": {
     "iopub.execute_input": "2022-09-27T07:58:57.816578Z",
     "iopub.status.busy": "2022-09-27T07:58:57.816220Z",
     "iopub.status.idle": "2022-09-27T08:14:23.614464Z",
     "shell.execute_reply": "2022-09-27T08:14:23.613525Z",
     "shell.execute_reply.started": "2022-09-27T07:58:57.816548Z"
    }
   },
   "outputs": [],
   "source": [
    "X_train_a,y_train_a=get_data(paths_train_a,path_label_train_a,resize_dim=RESIZE_DIM)\n",
    "X_train_b,y_train_b=get_data(paths_train_b,path_label_train_b,resize_dim=RESIZE_DIM)\n",
    "X_train_c,y_train_c=get_data(paths_train_c,path_label_train_c,resize_dim=RESIZE_DIM)\n",
    "X_train_d,y_train_d=get_data(paths_train_d,path_label_train_d,resize_dim=RESIZE_DIM)\n",
    "X_train_e,y_train_e=get_data(paths_train_e,path_label_train_e,resize_dim=RESIZE_DIM)"
   ]
  },
  {
   "cell_type": "code",
   "execution_count": null,
   "metadata": {
    "execution": {
     "iopub.execute_input": "2022-09-27T08:14:28.397178Z",
     "iopub.status.busy": "2022-09-27T08:14:28.396606Z",
     "iopub.status.idle": "2022-09-27T08:14:28.443311Z",
     "shell.execute_reply": "2022-09-27T08:14:28.442347Z",
     "shell.execute_reply.started": "2022-09-27T08:14:28.397135Z"
    }
   },
   "outputs": [],
   "source": [
    "X_train_all=np.concatenate((X_train_a,X_train_b,X_train_c,X_train_d,X_train_e),axis=0)\n",
    "y_train_all=np.concatenate((y_train_a,y_train_b,y_train_c,y_train_d,y_train_e),axis=0)\n",
    "X_train_all.shape, y_train_all.shape"
   ]
  },
  {
   "cell_type": "code",
   "execution_count": null,
   "metadata": {
    "execution": {
     "iopub.execute_input": "2022-09-27T08:14:31.715055Z",
     "iopub.status.busy": "2022-09-27T08:14:31.714666Z",
     "iopub.status.idle": "2022-09-27T08:14:31.720107Z",
     "shell.execute_reply": "2022-09-27T08:14:31.718868Z",
     "shell.execute_reply.started": "2022-09-27T08:14:31.715023Z"
    }
   },
   "outputs": [],
   "source": [
    "X_show_all=X_train_all"
   ]
  },
  {
   "cell_type": "markdown",
   "metadata": {},
   "source": [
    "Let's see some samples of the processed data. The digits are more sharp now"
   ]
  },
  {
   "cell_type": "code",
   "execution_count": null,
   "metadata": {
    "execution": {
     "iopub.execute_input": "2022-09-27T08:14:34.180922Z",
     "iopub.status.busy": "2022-09-27T08:14:34.180477Z",
     "iopub.status.idle": "2022-09-27T08:14:34.772159Z",
     "shell.execute_reply": "2022-09-27T08:14:34.771249Z",
     "shell.execute_reply.started": "2022-09-27T08:14:34.180884Z"
    }
   },
   "outputs": [],
   "source": [
    "plt.subplot(221)\n",
    "plt.imshow(X_train_all[0], cmap=plt.get_cmap('gray'))\n",
    "plt.subplot(222)\n",
    "plt.imshow(X_train_all[1], cmap=plt.get_cmap('gray'))\n",
    "plt.subplot(223)\n",
    "plt.imshow(X_train_all[2], cmap=plt.get_cmap('gray'))\n",
    "plt.subplot(224)\n",
    "plt.imshow(X_train_all[3], cmap=plt.get_cmap('gray'))\n",
    "# show the plot\n",
    "plt.show()"
   ]
  },
  {
   "cell_type": "code",
   "execution_count": null,
   "metadata": {
    "execution": {
     "iopub.execute_input": "2022-09-27T08:14:37.982974Z",
     "iopub.status.busy": "2022-09-27T08:14:37.982584Z",
     "iopub.status.idle": "2022-09-27T08:18:23.476699Z",
     "shell.execute_reply": "2022-09-27T08:18:23.475527Z",
     "shell.execute_reply.started": "2022-09-27T08:14:37.982926Z"
    }
   },
   "outputs": [],
   "source": [
    "X_test_a=get_data(paths_test_a,resize_dim=RESIZE_DIM)\n",
    "X_test_b=get_data(paths_test_b,resize_dim=RESIZE_DIM)\n",
    "X_test_c=get_data(paths_test_c,resize_dim=RESIZE_DIM)\n",
    "X_test_d=get_data(paths_test_d,resize_dim=RESIZE_DIM)\n",
    "X_test_e=get_data(paths_test_e,resize_dim=RESIZE_DIM)\n",
    "X_test_f=get_data(paths_test_f,resize_dim=RESIZE_DIM)\n",
    "X_test_auga=get_data(paths_test_auga,resize_dim=RESIZE_DIM)\n",
    "X_test_augc=get_data(paths_test_augc,resize_dim=RESIZE_DIM)"
   ]
  },
  {
   "cell_type": "code",
   "execution_count": null,
   "metadata": {
    "execution": {
     "iopub.execute_input": "2022-09-27T08:18:33.851695Z",
     "iopub.status.busy": "2022-09-27T08:18:33.851333Z",
     "iopub.status.idle": "2022-09-27T08:18:33.864890Z",
     "shell.execute_reply": "2022-09-27T08:18:33.863737Z",
     "shell.execute_reply.started": "2022-09-27T08:18:33.851665Z"
    }
   },
   "outputs": [],
   "source": [
    "X_test_all=np.concatenate((X_test_a,X_test_b,X_test_c,X_test_d,X_test_e,X_test_f,X_test_auga,X_test_augc))"
   ]
  },
  {
   "cell_type": "code",
   "execution_count": null,
   "metadata": {
    "execution": {
     "iopub.execute_input": "2022-09-27T08:18:37.509097Z",
     "iopub.status.busy": "2022-09-27T08:18:37.508715Z",
     "iopub.status.idle": "2022-09-27T08:18:37.515763Z",
     "shell.execute_reply": "2022-09-27T08:18:37.514821Z",
     "shell.execute_reply.started": "2022-09-27T08:18:37.509063Z"
    }
   },
   "outputs": [],
   "source": [
    "X_tshow_all=X_test_all\n",
    "X_tshow_all.shape"
   ]
  },
  {
   "cell_type": "markdown",
   "metadata": {},
   "source": [
    "We will now convert image to 1 color channel"
   ]
  },
  {
   "cell_type": "code",
   "execution_count": null,
   "metadata": {
    "execution": {
     "iopub.execute_input": "2022-09-27T08:18:40.251426Z",
     "iopub.status.busy": "2022-09-27T08:18:40.251067Z",
     "iopub.status.idle": "2022-09-27T08:18:40.346371Z",
     "shell.execute_reply": "2022-09-27T08:18:40.345357Z",
     "shell.execute_reply.started": "2022-09-27T08:18:40.251397Z"
    }
   },
   "outputs": [],
   "source": [
    "X_train_all = X_train_all.reshape(X_train_all.shape[0],32, 32,1).astype('float32')\n",
    "X_test_all = X_test_all.reshape(X_test_all.shape[0],32, 32,1).astype('float32')"
   ]
  },
  {
   "cell_type": "markdown",
   "metadata": {},
   "source": [
    "## Train image shape & sample"
   ]
  },
  {
   "cell_type": "code",
   "execution_count": null,
   "metadata": {
    "execution": {
     "iopub.execute_input": "2022-09-27T08:18:42.899711Z",
     "iopub.status.busy": "2022-09-27T08:18:42.898812Z",
     "iopub.status.idle": "2022-09-27T08:18:42.913500Z",
     "shell.execute_reply": "2022-09-27T08:18:42.912031Z",
     "shell.execute_reply.started": "2022-09-27T08:18:42.899662Z"
    }
   },
   "outputs": [],
   "source": [
    "X_train_all.shape"
   ]
  },
  {
   "cell_type": "code",
   "execution_count": null,
   "metadata": {
    "execution": {
     "iopub.execute_input": "2022-09-27T08:18:45.884537Z",
     "iopub.status.busy": "2022-09-27T08:18:45.883924Z",
     "iopub.status.idle": "2022-09-27T08:18:46.101872Z",
     "shell.execute_reply": "2022-09-27T08:18:46.100891Z",
     "shell.execute_reply.started": "2022-09-27T08:18:45.884498Z"
    }
   },
   "outputs": [],
   "source": [
    "plt.imshow(X_train_all[1])"
   ]
  },
  {
   "cell_type": "markdown",
   "metadata": {},
   "source": [
    "# Test image shape & sample"
   ]
  },
  {
   "cell_type": "code",
   "execution_count": null,
   "metadata": {
    "execution": {
     "iopub.execute_input": "2022-09-27T08:18:49.385650Z",
     "iopub.status.busy": "2022-09-27T08:18:49.385281Z",
     "iopub.status.idle": "2022-09-27T08:18:49.391907Z",
     "shell.execute_reply": "2022-09-27T08:18:49.390585Z",
     "shell.execute_reply.started": "2022-09-27T08:18:49.385612Z"
    },
    "scrolled": true
   },
   "outputs": [],
   "source": [
    "X_test_all.shape"
   ]
  },
  {
   "cell_type": "code",
   "execution_count": null,
   "metadata": {
    "execution": {
     "iopub.execute_input": "2022-09-27T08:18:52.295636Z",
     "iopub.status.busy": "2022-09-27T08:18:52.294942Z",
     "iopub.status.idle": "2022-09-27T08:18:52.505880Z",
     "shell.execute_reply": "2022-09-27T08:18:52.504896Z",
     "shell.execute_reply.started": "2022-09-27T08:18:52.295600Z"
    }
   },
   "outputs": [],
   "source": [
    "plt.imshow(X_test_all[1])"
   ]
  },
  {
   "cell_type": "markdown",
   "metadata": {},
   "source": [
    "# Interpolating train images"
   ]
  },
  {
   "cell_type": "code",
   "execution_count": null,
   "metadata": {
    "execution": {
     "iopub.execute_input": "2022-09-27T08:18:55.712108Z",
     "iopub.status.busy": "2022-09-27T08:18:55.711722Z",
     "iopub.status.idle": "2022-09-27T08:18:55.720584Z",
     "shell.execute_reply": "2022-09-27T08:18:55.719455Z",
     "shell.execute_reply.started": "2022-09-27T08:18:55.712076Z"
    }
   },
   "outputs": [],
   "source": [
    "m = 2\n",
    "\n",
    "X_train_all_big = np.empty(shape=[72045, 32*m, 32*m, 1])\n",
    "X_train_all_big.shape"
   ]
  },
  {
   "cell_type": "code",
   "execution_count": null,
   "metadata": {
    "execution": {
     "iopub.execute_input": "2022-09-27T08:19:00.002612Z",
     "iopub.status.busy": "2022-09-27T08:19:00.002245Z",
     "iopub.status.idle": "2022-09-27T08:19:01.435346Z",
     "shell.execute_reply": "2022-09-27T08:19:01.434235Z",
     "shell.execute_reply.started": "2022-09-27T08:19:00.002582Z"
    }
   },
   "outputs": [],
   "source": [
    "for i in range(0, 72045):\n",
    "    big_img = cv2.resize(X_train_all[i], None, fx=m, fy=m, interpolation=cv2.INTER_NEAREST)\n",
    "    big_img = big_img[:, :, np.newaxis]\n",
    "    X_train_all_big[i] = big_img\n",
    "    if i==72044:\n",
    "        end='\\n'\n",
    "    else: \n",
    "        end='\\r'\n",
    "    print('processed {}/72045'.format(i+1),end=end)\n",
    "\n",
    "X_train_all_big.shape"
   ]
  },
  {
   "cell_type": "code",
   "execution_count": null,
   "metadata": {
    "execution": {
     "iopub.execute_input": "2022-09-27T08:19:36.383746Z",
     "iopub.status.busy": "2022-09-27T08:19:36.383349Z",
     "iopub.status.idle": "2022-09-27T08:19:36.607079Z",
     "shell.execute_reply": "2022-09-27T08:19:36.606116Z",
     "shell.execute_reply.started": "2022-09-27T08:19:36.383713Z"
    }
   },
   "outputs": [],
   "source": [
    "plt.imshow(X_train_all_big[1])"
   ]
  },
  {
   "cell_type": "markdown",
   "metadata": {},
   "source": [
    "# Interpolating test images"
   ]
  },
  {
   "cell_type": "code",
   "execution_count": null,
   "metadata": {
    "execution": {
     "iopub.execute_input": "2022-09-27T08:19:40.271378Z",
     "iopub.status.busy": "2022-09-27T08:19:40.270620Z",
     "iopub.status.idle": "2022-09-27T08:19:40.278926Z",
     "shell.execute_reply": "2022-09-27T08:19:40.277902Z",
     "shell.execute_reply.started": "2022-09-27T08:19:40.271340Z"
    }
   },
   "outputs": [],
   "source": [
    "X_test_all_big = np.empty(shape=[17626, 32*m, 32*m, 1])\n",
    "X_test_all_big.shape"
   ]
  },
  {
   "cell_type": "code",
   "execution_count": null,
   "metadata": {
    "execution": {
     "iopub.execute_input": "2022-09-27T08:19:43.786056Z",
     "iopub.status.busy": "2022-09-27T08:19:43.785672Z",
     "iopub.status.idle": "2022-09-27T08:19:44.148584Z",
     "shell.execute_reply": "2022-09-27T08:19:44.147467Z",
     "shell.execute_reply.started": "2022-09-27T08:19:43.786024Z"
    }
   },
   "outputs": [],
   "source": [
    "for i in range(0, 17626):\n",
    "    big_img = cv2.resize(X_test_all[i], None, fx=m, fy=m, interpolation=cv2.INTER_NEAREST)\n",
    "    big_img = big_img[:, :, np.newaxis]\n",
    "    X_test_all_big[i] = big_img\n",
    "    if i==17625:\n",
    "        end='\\n'\n",
    "    else: \n",
    "        end='\\r'\n",
    "    print('processed {}/17626'.format(i+1),end=end)\n",
    "\n",
    "X_test_all_big.shape"
   ]
  },
  {
   "cell_type": "code",
   "execution_count": null,
   "metadata": {
    "execution": {
     "iopub.execute_input": "2022-09-27T08:19:52.906607Z",
     "iopub.status.busy": "2022-09-27T08:19:52.906255Z",
     "iopub.status.idle": "2022-09-27T08:19:53.113653Z",
     "shell.execute_reply": "2022-09-27T08:19:53.112769Z",
     "shell.execute_reply.started": "2022-09-27T08:19:52.906578Z"
    }
   },
   "outputs": [],
   "source": [
    "plt.imshow(X_test_all_big[1])"
   ]
  },
  {
   "cell_type": "markdown",
   "metadata": {},
   "source": [
    "## Normalize data"
   ]
  },
  {
   "cell_type": "code",
   "execution_count": null,
   "metadata": {
    "execution": {
     "iopub.execute_input": "2022-09-27T08:20:59.595696Z",
     "iopub.status.busy": "2022-09-27T08:20:59.594893Z",
     "iopub.status.idle": "2022-09-27T08:20:59.681391Z",
     "shell.execute_reply": "2022-09-27T08:20:59.680386Z",
     "shell.execute_reply.started": "2022-09-27T08:20:59.595649Z"
    },
    "scrolled": true
   },
   "outputs": [],
   "source": [
    "for i in range (64):\n",
    "    for j in range (64):\n",
    "        print(i, j, X_train_all_big[1][i][j][0])"
   ]
  },
  {
   "cell_type": "code",
   "execution_count": null,
   "metadata": {
    "execution": {
     "iopub.execute_input": "2022-09-27T08:21:59.947998Z",
     "iopub.status.busy": "2022-09-27T08:21:59.947592Z",
     "iopub.status.idle": "2022-09-27T08:22:00.632224Z",
     "shell.execute_reply": "2022-09-27T08:22:00.631175Z",
     "shell.execute_reply.started": "2022-09-27T08:21:59.947944Z"
    }
   },
   "outputs": [],
   "source": [
    "X_train_all_big = X_train_all_big/255"
   ]
  },
  {
   "cell_type": "code",
   "execution_count": null,
   "metadata": {
    "execution": {
     "iopub.execute_input": "2022-09-27T08:22:10.575917Z",
     "iopub.status.busy": "2022-09-27T08:22:10.575543Z",
     "iopub.status.idle": "2022-09-27T08:22:10.651159Z",
     "shell.execute_reply": "2022-09-27T08:22:10.650126Z",
     "shell.execute_reply.started": "2022-09-27T08:22:10.575885Z"
    },
    "scrolled": true
   },
   "outputs": [],
   "source": [
    "for i in range (64):\n",
    "    for j in range (64):\n",
    "        print(i, j, X_train_all_big[1][i][j][0])"
   ]
  },
  {
   "cell_type": "code",
   "execution_count": null,
   "metadata": {
    "execution": {
     "iopub.execute_input": "2022-09-27T08:22:27.580388Z",
     "iopub.status.busy": "2022-09-27T08:22:27.580026Z",
     "iopub.status.idle": "2022-09-27T08:22:27.656276Z",
     "shell.execute_reply": "2022-09-27T08:22:27.654973Z",
     "shell.execute_reply.started": "2022-09-27T08:22:27.580359Z"
    },
    "scrolled": true
   },
   "outputs": [],
   "source": [
    "for i in range (64):\n",
    "    for j in range (64):\n",
    "        print(i, j, X_test_all_big[1][i][j][0])"
   ]
  },
  {
   "cell_type": "code",
   "execution_count": null,
   "metadata": {
    "execution": {
     "iopub.execute_input": "2022-09-27T08:22:55.530421Z",
     "iopub.status.busy": "2022-09-27T08:22:55.530064Z",
     "iopub.status.idle": "2022-09-27T08:22:55.700290Z",
     "shell.execute_reply": "2022-09-27T08:22:55.699210Z",
     "shell.execute_reply.started": "2022-09-27T08:22:55.530391Z"
    }
   },
   "outputs": [],
   "source": [
    "X_test_all_big = X_test_all_big/255"
   ]
  },
  {
   "cell_type": "code",
   "execution_count": null,
   "metadata": {
    "execution": {
     "iopub.execute_input": "2022-09-27T08:23:03.154440Z",
     "iopub.status.busy": "2022-09-27T08:23:03.154058Z",
     "iopub.status.idle": "2022-09-27T08:23:03.231256Z",
     "shell.execute_reply": "2022-09-27T08:23:03.230024Z",
     "shell.execute_reply.started": "2022-09-27T08:23:03.154411Z"
    },
    "scrolled": true
   },
   "outputs": [],
   "source": [
    "for i in range (64):\n",
    "    for j in range (64):\n",
    "        print(i, j, X_test_all_big[1][i][j][0])"
   ]
  },
  {
   "cell_type": "markdown",
   "metadata": {},
   "source": [
    "Next, we are going to randomly choose 80% of the training data and use it to train our neural network. The remaining 20% images are going to be our validation data."
   ]
  },
  {
   "cell_type": "code",
   "execution_count": null,
   "metadata": {
    "execution": {
     "iopub.execute_input": "2022-09-27T08:23:23.185832Z",
     "iopub.status.busy": "2022-09-27T08:23:23.184854Z",
     "iopub.status.idle": "2022-09-27T08:23:23.948517Z",
     "shell.execute_reply": "2022-09-27T08:23:23.947341Z",
     "shell.execute_reply.started": "2022-09-27T08:23:23.185794Z"
    }
   },
   "outputs": [],
   "source": [
    "indices=list(range(len(X_train_all_big)))\n",
    "np.random.seed(42)\n",
    "np.random.shuffle(indices)\n",
    "\n",
    "ind=int(len(indices)*0.80)\n",
    "# train data\n",
    "X_train=X_train_all_big[indices[:ind]] \n",
    "y_train=y_train_all[indices[:ind]]\n",
    "# validation data\n",
    "X_val=X_train_all_big[indices[-(len(indices)-ind):]] \n",
    "y_val=y_train_all[indices[-(len(indices)-ind):]]"
   ]
  },
  {
   "cell_type": "code",
   "execution_count": null,
   "metadata": {
    "execution": {
     "iopub.execute_input": "2022-09-27T08:23:25.907650Z",
     "iopub.status.busy": "2022-09-27T08:23:25.907303Z",
     "iopub.status.idle": "2022-09-27T08:23:25.914529Z",
     "shell.execute_reply": "2022-09-27T08:23:25.913385Z",
     "shell.execute_reply.started": "2022-09-27T08:23:25.907622Z"
    }
   },
   "outputs": [],
   "source": [
    "X_train.shape"
   ]
  },
  {
   "cell_type": "markdown",
   "metadata": {},
   "source": [
    "# Step 2: Design the model"
   ]
  },
  {
   "cell_type": "code",
   "execution_count": null,
   "metadata": {
    "execution": {
     "iopub.execute_input": "2022-09-27T10:46:07.282102Z",
     "iopub.status.busy": "2022-09-27T10:46:07.281720Z",
     "iopub.status.idle": "2022-09-27T10:46:07.405914Z",
     "shell.execute_reply": "2022-09-27T10:46:07.404863Z",
     "shell.execute_reply.started": "2022-09-27T10:46:07.282069Z"
    }
   },
   "outputs": [],
   "source": [
    "def my_model(img_size=64,channels=1):\n",
    "    model = Sequential()\n",
    "    input_shape = (img_size,img_size,channels)\n",
    "    \n",
    "    model.add(Conv2D(20,(5,5),input_shape=input_shape,\n",
    "                      activation='relu',padding='same'))\n",
    "    model.add(Conv2D(20,(5,5),activation='relu',padding='same'))\n",
    "    model.add(BatchNormalization())\n",
    "    model.add(MaxPooling2D(pool_size=(2,2)))\n",
    "\n",
    "\n",
    "    model.add(Conv2D(128,(3,3),activation='relu',padding='same'))\n",
    "    model.add(Conv2D(128,(3,3),activation='relu',padding='same'))\n",
    "    model.add(BatchNormalization())\n",
    "    model.add(MaxPooling2D(pool_size=(2,2)))\n",
    "\n",
    "\n",
    "    model.add(Conv2D(256,(3,3),activation='relu',padding='same'))\n",
    "    model.add(Conv2D(256,(3,3),activation='relu',padding='same'))\n",
    "    model.add(BatchNormalization())\n",
    "    model.add(MaxPooling2D(pool_size=(2,2)))\n",
    "\n",
    "    model.add(Flatten())\n",
    "    model.add(Dense(32))\n",
    "    model.add(Activation('relu'))\n",
    "    model.add(Dropout(0.2))\n",
    "    model.add(Dense(10))\n",
    "    model.add(Activation('softmax'))\n",
    "\n",
    "    model.compile(loss='categorical_crossentropy',metrics=['accuracy'],optimizer='adam')\n",
    "    # UNCOMMENT THIS TO VIEW THE ARCHITECTURE\n",
    "    #model.summary()\n",
    "    \n",
    "    return model\n",
    "model=my_model()\n",
    "model.summary()"
   ]
  },
  {
   "cell_type": "markdown",
   "metadata": {},
   "source": [
    "# Step 3: Train the model"
   ]
  },
  {
   "cell_type": "code",
   "execution_count": null,
   "metadata": {
    "execution": {
     "iopub.execute_input": "2022-09-27T10:46:19.412581Z",
     "iopub.status.busy": "2022-09-27T10:46:19.412205Z",
     "iopub.status.idle": "2022-09-27T10:58:44.400120Z",
     "shell.execute_reply": "2022-09-27T10:58:44.399122Z",
     "shell.execute_reply.started": "2022-09-27T10:46:19.412550Z"
    }
   },
   "outputs": [],
   "source": [
    "path_model='model_filter.h9' # save model at this location after each epoch\n",
    "tf.compat.v1.keras.backend.clear_session() # destroys the current graph and builds a new one\n",
    "model=my_model() # create the model\n",
    "K.set_value(model.optimizer.lr,1e-3) # set the learning rate\n",
    "# fit the model\n",
    "h=model.fit(x=X_train,     \n",
    "            y=y_train, \n",
    "            batch_size=64, \n",
    "            epochs=30, \n",
    "            verbose=1, \n",
    "            validation_data=(X_val,y_val),\n",
    "            shuffle=True,\n",
    "            callbacks=[\n",
    "                ModelCheckpoint(filepath=path_model),\n",
    "            ]\n",
    "            )"
   ]
  },
  {
   "cell_type": "code",
   "execution_count": null,
   "metadata": {
    "execution": {
     "iopub.execute_input": "2022-09-27T10:59:30.568750Z",
     "iopub.status.busy": "2022-09-27T10:59:30.568366Z",
     "iopub.status.idle": "2022-09-27T10:59:30.577064Z",
     "shell.execute_reply": "2022-09-27T10:59:30.575968Z",
     "shell.execute_reply.started": "2022-09-27T10:59:30.568717Z"
    },
    "scrolled": true
   },
   "outputs": [],
   "source": [
    "h.history"
   ]
  },
  {
   "cell_type": "code",
   "execution_count": null,
   "metadata": {
    "execution": {
     "iopub.execute_input": "2022-09-27T10:59:33.932313Z",
     "iopub.status.busy": "2022-09-27T10:59:33.931542Z",
     "iopub.status.idle": "2022-09-27T10:59:34.123875Z",
     "shell.execute_reply": "2022-09-27T10:59:34.122867Z",
     "shell.execute_reply.started": "2022-09-27T10:59:33.932275Z"
    }
   },
   "outputs": [],
   "source": [
    "fig = plt.figure()\n",
    "plt.plot(h.history['loss'], color='teal', label='loss')\n",
    "plt.plot(h.history['val_loss'], color='orange', label='val_loss')\n",
    "fig.suptitle('Loss', fontsize=20)\n",
    "plt.legend(loc=\"upper right\")\n",
    "plt.show()"
   ]
  },
  {
   "cell_type": "code",
   "execution_count": null,
   "metadata": {
    "execution": {
     "iopub.execute_input": "2022-09-27T10:59:36.774374Z",
     "iopub.status.busy": "2022-09-27T10:59:36.773418Z",
     "iopub.status.idle": "2022-09-27T10:59:36.966904Z",
     "shell.execute_reply": "2022-09-27T10:59:36.965881Z",
     "shell.execute_reply.started": "2022-09-27T10:59:36.774322Z"
    }
   },
   "outputs": [],
   "source": [
    "fig = plt.figure()\n",
    "plt.plot(h.history['accuracy'], color='teal', label='accuracy')\n",
    "plt.plot(h.history['val_accuracy'], color='orange', label='val_accuracy')\n",
    "fig.suptitle('Accuraccy', fontsize=20)\n",
    "plt.legend(loc=\"lower right\")\n",
    "plt.show()"
   ]
  },
  {
   "cell_type": "markdown",
   "metadata": {},
   "source": [
    "## Result Analysis\n",
    "Let's observe the images by our model"
   ]
  },
  {
   "cell_type": "code",
   "execution_count": null,
   "metadata": {
    "execution": {
     "iopub.execute_input": "2022-09-27T11:00:04.323461Z",
     "iopub.status.busy": "2022-09-27T11:00:04.323059Z",
     "iopub.status.idle": "2022-09-27T11:00:04.331114Z",
     "shell.execute_reply": "2022-09-27T11:00:04.329999Z",
     "shell.execute_reply.started": "2022-09-27T11:00:04.323432Z"
    }
   },
   "outputs": [],
   "source": [
    "X_test_all.shape"
   ]
  },
  {
   "cell_type": "code",
   "execution_count": null,
   "metadata": {
    "execution": {
     "iopub.execute_input": "2022-09-27T11:02:15.989868Z",
     "iopub.status.busy": "2022-09-27T11:02:15.989503Z",
     "iopub.status.idle": "2022-09-27T11:02:19.077314Z",
     "shell.execute_reply": "2022-09-27T11:02:19.071976Z",
     "shell.execute_reply.started": "2022-09-27T11:02:15.989836Z"
    }
   },
   "outputs": [],
   "source": [
    "predictions_prob=model.predict(X_test_all_big) # get predictions for all the test data"
   ]
  },
  {
   "cell_type": "code",
   "execution_count": null,
   "metadata": {
    "execution": {
     "iopub.execute_input": "2022-09-27T11:02:38.752521Z",
     "iopub.status.busy": "2022-09-27T11:02:38.751826Z",
     "iopub.status.idle": "2022-09-27T11:02:38.759905Z",
     "shell.execute_reply": "2022-09-27T11:02:38.758685Z",
     "shell.execute_reply.started": "2022-09-27T11:02:38.752484Z"
    }
   },
   "outputs": [],
   "source": [
    "predictions_prob[0]"
   ]
  },
  {
   "cell_type": "code",
   "execution_count": null,
   "metadata": {
    "execution": {
     "iopub.execute_input": "2022-09-27T11:03:03.072595Z",
     "iopub.status.busy": "2022-09-27T11:03:03.071842Z",
     "iopub.status.idle": "2022-09-27T11:03:03.082228Z",
     "shell.execute_reply": "2022-09-27T11:03:03.081004Z",
     "shell.execute_reply.started": "2022-09-27T11:03:03.072545Z"
    }
   },
   "outputs": [],
   "source": [
    "n_sample=200\n",
    "np.random.seed(42)\n",
    "ind=np.random.randint(0,len(X_test_all_big), size=n_sample)\n",
    "len(X_test_all_big)"
   ]
  },
  {
   "cell_type": "code",
   "execution_count": null,
   "metadata": {
    "execution": {
     "iopub.execute_input": "2022-09-27T11:06:36.611800Z",
     "iopub.status.busy": "2022-09-27T11:06:36.611443Z",
     "iopub.status.idle": "2022-09-27T11:06:36.821463Z",
     "shell.execute_reply": "2022-09-27T11:06:36.820553Z",
     "shell.execute_reply.started": "2022-09-27T11:06:36.611770Z"
    }
   },
   "outputs": [],
   "source": [
    "plt.imshow(X_test_all_big[10])"
   ]
  },
  {
   "cell_type": "code",
   "execution_count": null,
   "metadata": {
    "execution": {
     "iopub.execute_input": "2022-09-27T11:04:48.297151Z",
     "iopub.status.busy": "2022-09-27T11:04:48.296787Z",
     "iopub.status.idle": "2022-09-27T11:04:48.503443Z",
     "shell.execute_reply": "2022-09-27T11:04:48.502521Z",
     "shell.execute_reply.started": "2022-09-27T11:04:48.297122Z"
    }
   },
   "outputs": [],
   "source": [
    "plt.imshow(X_test_all_big[2])"
   ]
  },
  {
   "cell_type": "code",
   "execution_count": null,
   "metadata": {
    "execution": {
     "iopub.execute_input": "2022-09-27T11:04:52.576579Z",
     "iopub.status.busy": "2022-09-27T11:04:52.576142Z",
     "iopub.status.idle": "2022-09-27T11:04:52.584344Z",
     "shell.execute_reply": "2022-09-27T11:04:52.583097Z",
     "shell.execute_reply.started": "2022-09-27T11:04:52.576543Z"
    }
   },
   "outputs": [],
   "source": [
    "predictions_prob[2]"
   ]
  },
  {
   "cell_type": "code",
   "execution_count": null,
   "metadata": {
    "execution": {
     "iopub.execute_input": "2022-09-27T11:05:06.296019Z",
     "iopub.status.busy": "2022-09-27T11:05:06.295633Z",
     "iopub.status.idle": "2022-09-27T11:05:14.848622Z",
     "shell.execute_reply": "2022-09-27T11:05:14.846620Z",
     "shell.execute_reply.started": "2022-09-27T11:05:06.295987Z"
    }
   },
   "outputs": [],
   "source": [
    "#imshow_group(X=X_tshow_all[ind],y=None,y_pred=predictions_prob[ind], phase='prediction')\n",
    "imshow_group(X=X_test_all_big[ind],y=None,y_pred=predictions_prob[ind], phase='prediction')"
   ]
  },
  {
   "cell_type": "code",
   "execution_count": null,
   "metadata": {
    "execution": {
     "iopub.execute_input": "2022-09-27T11:05:38.089801Z",
     "iopub.status.busy": "2022-09-27T11:05:38.089430Z",
     "iopub.status.idle": "2022-09-27T11:05:38.128154Z",
     "shell.execute_reply": "2022-09-27T11:05:38.127262Z",
     "shell.execute_reply.started": "2022-09-27T11:05:38.089769Z"
    }
   },
   "outputs": [],
   "source": [
    "labels=[np.argmax(pred) for pred in predictions_prob]"
   ]
  },
  {
   "cell_type": "code",
   "execution_count": null,
   "metadata": {
    "execution": {
     "iopub.execute_input": "2022-09-27T11:06:41.652733Z",
     "iopub.status.busy": "2022-09-27T11:06:41.651850Z",
     "iopub.status.idle": "2022-09-27T11:06:41.662087Z",
     "shell.execute_reply": "2022-09-27T11:06:41.661095Z",
     "shell.execute_reply.started": "2022-09-27T11:06:41.652687Z"
    }
   },
   "outputs": [],
   "source": [
    "labels[10]"
   ]
  },
  {
   "cell_type": "code",
   "execution_count": null,
   "metadata": {
    "execution": {
     "iopub.execute_input": "2022-09-27T11:06:51.838130Z",
     "iopub.status.busy": "2022-09-27T11:06:51.837762Z",
     "iopub.status.idle": "2022-09-27T11:06:51.852965Z",
     "shell.execute_reply": "2022-09-27T11:06:51.851849Z",
     "shell.execute_reply.started": "2022-09-27T11:06:51.838099Z"
    }
   },
   "outputs": [],
   "source": [
    "keys=[ get_key(path) for path in paths_test_all ]"
   ]
  },
  {
   "cell_type": "code",
   "execution_count": null,
   "metadata": {
    "execution": {
     "iopub.execute_input": "2022-09-27T11:10:38.469197Z",
     "iopub.status.busy": "2022-09-27T11:10:38.468791Z",
     "iopub.status.idle": "2022-09-27T11:10:38.531872Z",
     "shell.execute_reply": "2022-09-27T11:10:38.530982Z",
     "shell.execute_reply.started": "2022-09-27T11:10:38.469162Z"
    }
   },
   "outputs": [],
   "source": [
    "from sklearn.metrics import confusion_matrix\n",
    "\n",
    "plt.figure(figsize=(16, 9))\n",
    "cm = confusion_matrix()"
   ]
  },
  {
   "cell_type": "code",
   "execution_count": null,
   "metadata": {
    "execution": {
     "iopub.execute_input": "2022-09-25T19:33:37.266956Z",
     "iopub.status.busy": "2022-09-25T19:33:37.265845Z",
     "iopub.status.idle": "2022-09-25T19:33:37.292605Z",
     "shell.execute_reply": "2022-09-25T19:33:37.291702Z",
     "shell.execute_reply.started": "2022-09-25T19:33:37.266917Z"
    }
   },
   "outputs": [],
   "source": [
    "create_submission(predictions=labels,keys=keys,path='submission1.csv')"
   ]
  },
  {
   "cell_type": "code",
   "execution_count": null,
   "metadata": {
    "execution": {
     "iopub.execute_input": "2022-09-25T19:33:43.131687Z",
     "iopub.status.busy": "2022-09-25T19:33:43.131183Z",
     "iopub.status.idle": "2022-09-25T19:33:43.158564Z",
     "shell.execute_reply": "2022-09-25T19:33:43.157400Z",
     "shell.execute_reply.started": "2022-09-25T19:33:43.131640Z"
    }
   },
   "outputs": [],
   "source": [
    "prediction = pd.read_csv('submission1.csv')\n",
    "prediction.head(100)"
   ]
  },
  {
   "cell_type": "code",
   "execution_count": null,
   "metadata": {},
   "outputs": [],
   "source": []
  }
 ],
 "metadata": {
  "kernelspec": {
   "display_name": "Python 3 (ipykernel)",
   "language": "python",
   "name": "python3"
  },
  "language_info": {
   "codemirror_mode": {
    "name": "ipython",
    "version": 3
   },
   "file_extension": ".py",
   "mimetype": "text/x-python",
   "name": "python",
   "nbconvert_exporter": "python",
   "pygments_lexer": "ipython3",
   "version": "3.9.7"
  }
 },
 "nbformat": 4,
 "nbformat_minor": 4
}
